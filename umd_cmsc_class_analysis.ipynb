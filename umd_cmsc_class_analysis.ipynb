{
 "cells": [
  {
   "cell_type": "markdown",
   "metadata": {
    "collapsed": true,
    "pycharm": {
     "name": "#%% md\n"
    }
   },
   "source": [
    "<div align=\"center\">\n",
    "\n",
    "# Final Tutorial: UMD CMSC Class Analysis\n",
    "\n",
    "## Michael Lacanilao, Alex Juan, and Yong Tae Kwon\n",
    "\n",
    "Posted: TODO\n",
    "\n",
    "Due: TODO\n",
    "\n",
    "</div>"
   ]
  },
  {
   "cell_type": "markdown",
   "source": [
    "## Summary\n",
    "\n",
    "  - [Descripton](#description)\n",
    "  - [Data Cleaning](#data-cleaning)\n",
    "    - [Retrieving Data](#retrieving-data)\n",
    "    - [Cleaning Data](#retrieving-data)\n"
   ],
   "metadata": {
    "collapsed": false
   }
  },
  {
   "cell_type": "markdown",
   "source": [
    "## Description\n",
    "\n",
    "TODO"
   ],
   "metadata": {
    "collapsed": false
   }
  },
  {
   "cell_type": "markdown",
   "source": [
    "## Data Cleaning"
   ],
   "metadata": {
    "collapsed": false
   }
  },
  {
   "cell_type": "markdown",
   "source": [
    "### Retrieving Data\n",
    "\n",
    "TODO"
   ],
   "metadata": {
    "collapsed": false
   }
  },
  {
   "cell_type": "markdown",
   "source": [
    "### Cleaning Data"
   ],
   "metadata": {
    "collapsed": false
   }
  },
  {
   "cell_type": "code",
   "execution_count": 1,
   "outputs": [
    {
     "data": {
      "text/plain": "       Grade Plus/Minus Grades   Course Section         Term Instructor Name  \\\n0          C                 +  AASP100    0101    Fall 2016       Walsh, S.   \n1          C                 +  AASP100    0101    Fall 2017       Walsh, S.   \n2          C                 +  AASP100    0101    Fall 2018       Walsh, S.   \n3          C                 +  AASP100    0101  Spring 2017       Walsh, S.   \n4          C                 +  AASP100    0101  Spring 2019       Walsh, S.   \n...      ...               ...      ...     ...          ...             ...   \n232819     A                 +  WMST899    1101  Spring 2019       Tambe, A.   \n232820     A                 +  WMST899    I107   Sum I 2017       Moses, C.   \n232821     A                 +  WMST899    I111   Sum I 2018       Tambe, A.   \n232822     A                 +  WMST899    I111   Sum I 2019       Tambe, A.   \n232823     A                 +  WMST899    I211  Sum II 2017       Tambe, A.   \n\n         +  n/a   -  \n0      NaN  NaN NaN  \n1      NaN  NaN NaN  \n2      NaN  NaN NaN  \n3      NaN  NaN NaN  \n4      NaN  NaN NaN  \n...     ..  ...  ..  \n232819 NaN  NaN NaN  \n232820 NaN  NaN NaN  \n232821 NaN  NaN NaN  \n232822 NaN  NaN NaN  \n232823 NaN  NaN NaN  \n\n[232824 rows x 9 columns]",
      "text/html": "<div>\n<style scoped>\n    .dataframe tbody tr th:only-of-type {\n        vertical-align: middle;\n    }\n\n    .dataframe tbody tr th {\n        vertical-align: top;\n    }\n\n    .dataframe thead th {\n        text-align: right;\n    }\n</style>\n<table border=\"1\" class=\"dataframe\">\n  <thead>\n    <tr style=\"text-align: right;\">\n      <th></th>\n      <th>Grade</th>\n      <th>Plus/Minus Grades</th>\n      <th>Course</th>\n      <th>Section</th>\n      <th>Term</th>\n      <th>Instructor Name</th>\n      <th>+</th>\n      <th>n/a</th>\n      <th>-</th>\n    </tr>\n  </thead>\n  <tbody>\n    <tr>\n      <th>0</th>\n      <td>C</td>\n      <td>+</td>\n      <td>AASP100</td>\n      <td>0101</td>\n      <td>Fall 2016</td>\n      <td>Walsh, S.</td>\n      <td>NaN</td>\n      <td>NaN</td>\n      <td>NaN</td>\n    </tr>\n    <tr>\n      <th>1</th>\n      <td>C</td>\n      <td>+</td>\n      <td>AASP100</td>\n      <td>0101</td>\n      <td>Fall 2017</td>\n      <td>Walsh, S.</td>\n      <td>NaN</td>\n      <td>NaN</td>\n      <td>NaN</td>\n    </tr>\n    <tr>\n      <th>2</th>\n      <td>C</td>\n      <td>+</td>\n      <td>AASP100</td>\n      <td>0101</td>\n      <td>Fall 2018</td>\n      <td>Walsh, S.</td>\n      <td>NaN</td>\n      <td>NaN</td>\n      <td>NaN</td>\n    </tr>\n    <tr>\n      <th>3</th>\n      <td>C</td>\n      <td>+</td>\n      <td>AASP100</td>\n      <td>0101</td>\n      <td>Spring 2017</td>\n      <td>Walsh, S.</td>\n      <td>NaN</td>\n      <td>NaN</td>\n      <td>NaN</td>\n    </tr>\n    <tr>\n      <th>4</th>\n      <td>C</td>\n      <td>+</td>\n      <td>AASP100</td>\n      <td>0101</td>\n      <td>Spring 2019</td>\n      <td>Walsh, S.</td>\n      <td>NaN</td>\n      <td>NaN</td>\n      <td>NaN</td>\n    </tr>\n    <tr>\n      <th>...</th>\n      <td>...</td>\n      <td>...</td>\n      <td>...</td>\n      <td>...</td>\n      <td>...</td>\n      <td>...</td>\n      <td>...</td>\n      <td>...</td>\n      <td>...</td>\n    </tr>\n    <tr>\n      <th>232819</th>\n      <td>A</td>\n      <td>+</td>\n      <td>WMST899</td>\n      <td>1101</td>\n      <td>Spring 2019</td>\n      <td>Tambe, A.</td>\n      <td>NaN</td>\n      <td>NaN</td>\n      <td>NaN</td>\n    </tr>\n    <tr>\n      <th>232820</th>\n      <td>A</td>\n      <td>+</td>\n      <td>WMST899</td>\n      <td>I107</td>\n      <td>Sum I 2017</td>\n      <td>Moses, C.</td>\n      <td>NaN</td>\n      <td>NaN</td>\n      <td>NaN</td>\n    </tr>\n    <tr>\n      <th>232821</th>\n      <td>A</td>\n      <td>+</td>\n      <td>WMST899</td>\n      <td>I111</td>\n      <td>Sum I 2018</td>\n      <td>Tambe, A.</td>\n      <td>NaN</td>\n      <td>NaN</td>\n      <td>NaN</td>\n    </tr>\n    <tr>\n      <th>232822</th>\n      <td>A</td>\n      <td>+</td>\n      <td>WMST899</td>\n      <td>I111</td>\n      <td>Sum I 2019</td>\n      <td>Tambe, A.</td>\n      <td>NaN</td>\n      <td>NaN</td>\n      <td>NaN</td>\n    </tr>\n    <tr>\n      <th>232823</th>\n      <td>A</td>\n      <td>+</td>\n      <td>WMST899</td>\n      <td>I211</td>\n      <td>Sum II 2017</td>\n      <td>Tambe, A.</td>\n      <td>NaN</td>\n      <td>NaN</td>\n      <td>NaN</td>\n    </tr>\n  </tbody>\n</table>\n<p>232824 rows × 9 columns</p>\n</div>"
     },
     "execution_count": 1,
     "metadata": {},
     "output_type": "execute_result"
    }
   ],
   "source": [
    "import pandas as pd\n",
    "\n",
    "df = pd.read_csv('data/grades_table.csv', sep='\\t+', encoding='utf-16', engine='python')\n",
    "df"
   ],
   "metadata": {
    "collapsed": false,
    "pycharm": {
     "name": "#%%\n"
    }
   }
  }
 ],
 "metadata": {
  "kernelspec": {
   "name": "project3",
   "language": "python",
   "display_name": "Python (project3)"
  },
  "language_info": {
   "codemirror_mode": {
    "name": "ipython",
    "version": 3
   },
   "file_extension": ".py",
   "mimetype": "text/x-python",
   "name": "python",
   "nbconvert_exporter": "python",
   "pygments_lexer": "ipython3",
   "version": "3.8.8"
  }
 },
 "nbformat": 4,
 "nbformat_minor": 1
}