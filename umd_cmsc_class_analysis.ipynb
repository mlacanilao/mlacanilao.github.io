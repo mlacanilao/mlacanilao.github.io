{
 "cells": [
  {
   "cell_type": "markdown",
   "metadata": {
    "collapsed": true,
    "pycharm": {
     "name": "#%% md\n"
    }
   },
   "source": [
    "# Final Tutorial: UMD CMSC Class Analysis\n",
    "\n",
    "## Michael Lacanilao, Alex Juan, and Yong Tae Kwon\n",
    "\n",
    "Posted: TODO\n",
    "\n",
    "Due: TODO"
   ]
  },
  {
   "cell_type": "markdown",
   "source": [
    "## Summary\n",
    "\n",
    "  - [Descripton](#description)\n",
    "  - [Data Cleaning](#data-cleaning)\n",
    "    - [Retrieving Data](#retrieving-data)\n",
    "    - [Cleaning Data](#retrieving-data)\n"
   ],
   "metadata": {
    "collapsed": false
   }
  },
  {
   "cell_type": "markdown",
   "source": [
    "## Description\n",
    "\n",
    "TODO"
   ],
   "metadata": {
    "collapsed": false
   }
  },
  {
   "cell_type": "markdown",
   "source": [
    "## Data Cleaning"
   ],
   "metadata": {
    "collapsed": false
   }
  },
  {
   "cell_type": "markdown",
   "source": [
    "### Retrieving Data\n",
    "\n",
    "TODO"
   ],
   "metadata": {
    "collapsed": false
   }
  },
  {
   "cell_type": "markdown",
   "source": [
    "### Cleaning Data"
   ],
   "metadata": {
    "collapsed": false
   }
  },
  {
   "cell_type": "code",
   "execution_count": 4,
   "outputs": [
    {
     "data": {
      "text/plain": "  Grade Plus/Minus Grades   Course Section         Term Instructor Name   +  \\\n0     C                 +  AASP100    0101    Fall 2016       Walsh, S. NaN   \n1     C                 +  AASP100    0101    Fall 2017       Walsh, S. NaN   \n2     C                 +  AASP100    0101    Fall 2018       Walsh, S. NaN   \n3     C                 +  AASP100    0101  Spring 2017       Walsh, S. NaN   \n4     C                 +  AASP100    0101  Spring 2019       Walsh, S. NaN   \n\n   n/a   -  \n0  NaN NaN  \n1  NaN NaN  \n2  NaN NaN  \n3  NaN NaN  \n4  NaN NaN  ",
      "text/html": "<div>\n<style scoped>\n    .dataframe tbody tr th:only-of-type {\n        vertical-align: middle;\n    }\n\n    .dataframe tbody tr th {\n        vertical-align: top;\n    }\n\n    .dataframe thead th {\n        text-align: right;\n    }\n</style>\n<table border=\"1\" class=\"dataframe\">\n  <thead>\n    <tr style=\"text-align: right;\">\n      <th></th>\n      <th>Grade</th>\n      <th>Plus/Minus Grades</th>\n      <th>Course</th>\n      <th>Section</th>\n      <th>Term</th>\n      <th>Instructor Name</th>\n      <th>+</th>\n      <th>n/a</th>\n      <th>-</th>\n    </tr>\n  </thead>\n  <tbody>\n    <tr>\n      <th>0</th>\n      <td>C</td>\n      <td>+</td>\n      <td>AASP100</td>\n      <td>0101</td>\n      <td>Fall 2016</td>\n      <td>Walsh, S.</td>\n      <td>NaN</td>\n      <td>NaN</td>\n      <td>NaN</td>\n    </tr>\n    <tr>\n      <th>1</th>\n      <td>C</td>\n      <td>+</td>\n      <td>AASP100</td>\n      <td>0101</td>\n      <td>Fall 2017</td>\n      <td>Walsh, S.</td>\n      <td>NaN</td>\n      <td>NaN</td>\n      <td>NaN</td>\n    </tr>\n    <tr>\n      <th>2</th>\n      <td>C</td>\n      <td>+</td>\n      <td>AASP100</td>\n      <td>0101</td>\n      <td>Fall 2018</td>\n      <td>Walsh, S.</td>\n      <td>NaN</td>\n      <td>NaN</td>\n      <td>NaN</td>\n    </tr>\n    <tr>\n      <th>3</th>\n      <td>C</td>\n      <td>+</td>\n      <td>AASP100</td>\n      <td>0101</td>\n      <td>Spring 2017</td>\n      <td>Walsh, S.</td>\n      <td>NaN</td>\n      <td>NaN</td>\n      <td>NaN</td>\n    </tr>\n    <tr>\n      <th>4</th>\n      <td>C</td>\n      <td>+</td>\n      <td>AASP100</td>\n      <td>0101</td>\n      <td>Spring 2019</td>\n      <td>Walsh, S.</td>\n      <td>NaN</td>\n      <td>NaN</td>\n      <td>NaN</td>\n    </tr>\n  </tbody>\n</table>\n</div>"
     },
     "execution_count": 4,
     "metadata": {},
     "output_type": "execute_result"
    }
   ],
   "source": [
    "import pandas as pd\n",
    "\n",
    "df = pd.read_csv('data/grades_table.csv', sep='\\t+', encoding='utf-16', engine='python')\n",
    "df.head()"
   ],
   "metadata": {
    "collapsed": false,
    "pycharm": {
     "name": "#%%\n"
    }
   }
  }
 ],
 "metadata": {
  "kernelspec": {
   "name": "project3",
   "language": "python",
   "display_name": "Python (project3)"
  },
  "language_info": {
   "codemirror_mode": {
    "name": "ipython",
    "version": 3
   },
   "file_extension": ".py",
   "mimetype": "text/x-python",
   "name": "python",
   "nbconvert_exporter": "python",
   "pygments_lexer": "ipython3",
   "version": "3.8.8"
  }
 },
 "nbformat": 4,
 "nbformat_minor": 1
}